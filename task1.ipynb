#importing 
import pandas as pd
from sklearn.datasets import load_iris
from sklearn.tree import DecisionTreeClassifier, plot_tree
import matplotlib.pyplot as plt
from sklearn.model_selection import train_test_split
from sklearn.metrics import accuracy_score, classification_report, confusion_matrix

#* Load Iris dataset
iris = load_iris()
X = pd.DataFrame(iris.data, columns=iris.feature_names)
y = pd.Series(iris.target)

print("Iris Dataset Preview:")
print(X.head())

#*Split the dataset into training and testing sets
X_train, X_test, y_train, y_test = train_test_split(
    X, y,
    test_size=0.4,         # use 40% data for testing
    random_state=30,       # spliting 
    stratify=y             # keeps class distribution balanced
)

#* Train Decision Tree model
dtree = DecisionTreeClassifier()
model = dtree.fit(X_train, y_train)

#* Make predictions
p = dtree.predict(X_test)

#* Model performance evaluation
print("\nModel Performance / Accuracy")
print("Accuracy:", accuracy_score(y_test, p))
print("\nConfusion Matrix:\n", confusion_matrix(y_test, p))
print("\nClassification Report:\n", classification_report(y_test, p, target_names=iris.target_names))

#* Visualize the Decision Tree
plt.figure(figsize=(10, 9)) # size of decision tree
plot_tree(
    dtree,
    feature_names=X.columns.tolist(),
    class_names=iris.target_names,
    filled=True,
    rounded=True
)
plt.title("Decision Tree Implementation")
plt.tight_layout() # adjust layout to prevent overlapping
plt.show()
